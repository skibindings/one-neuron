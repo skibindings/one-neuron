{
  "nbformat": 4,
  "nbformat_minor": 0,
  "metadata": {
    "colab": {
      "name": "nn_practice_1 (1).ipynb",
      "provenance": [],
      "collapsed_sections": []
    },
    "kernelspec": {
      "display_name": "Python 3",
      "language": "python",
      "name": "python3"
    },
    "language_info": {
      "codemirror_mode": {
        "name": "ipython",
        "version": 3
      },
      "file_extension": ".py",
      "mimetype": "text/x-python",
      "name": "python",
      "nbconvert_exporter": "python",
      "pygments_lexer": "ipython3",
      "version": "3.8.3"
    }
  },
  "cells": [
    {
      "cell_type": "markdown",
      "metadata": {
        "id": "0wZpuchavs5E",
        "colab_type": "text"
      },
      "source": [
        "Пусть задано поле $M \\subset \\mathbb{B}^{n \\times n}$, где $\\mathbb{B} = \\{ \\mathbf{0}, \\mathbf{1} \\}$ --- логический носитель, а  $n = 7$ --- размер поля. (Само множество $M$\n",
        "является булевой матрицей размеров $n \\times n$). На поле $M$ произвольным (но разумным) образом можно нарисовать символ \"крестика\" или \"нолика\"; само поле, таким образом, представляет собой одну клетку рабочего пространства игры Крестики-Нолики.\n",
        "\n",
        "Необходимо реализовать на языке программирования Python программный компонент, моделирующий единственный нейрон с $n^2$ входами и одним выходом. Результат работы модели $a(M) \\subset \\{  \\textbf{O-class}, \\textbf{X-class} \\}$ --- распознанный класс \"крестик\" или \"нолик\".\n",
        "\n",
        "Разработка модели $a(M)$ предполагает:\n",
        "1. **Формирование обучающей выборки**. Размер обучающей выборки, характеристики прецедентов подбирается самостоятельно исходя из принципа рациональности и имея ввиду то обстоятельство, то как крестики, так и нолики могут быть нарисованы на поле вручную.\n",
        "2. **Обучение модели методом стохастического градиента**. Требуется самостоятельно подобрать параметры обучения (в том числе и функцию активации $\\varphi(x)$), а также разбиения обучающей выборки на тренировочную часть и тестовую. Обученная модель должна демонстрировать хорошие показатели качества: *точность и полнота не менее 98.5%*.\n",
        "3. Модель должна предусматривать стандартные функции для работы с моделями --- обучение (fit), применение/прогноз (predict) и оценки качества (score) в части точности и полноты.\n",
        "4. Модель должна предусматривать функцию сериализации (serialization) и десериализации (deserialization) в файл в формате JSON. Иными словами, необходимо обеспечить функциональность сохранения обученной модели в файл, а также его последующей загрузки.\n",
        "\t\n",
        "В программных компонентах должно быть предусмотрено проведение всех необходимых математических операций и преобразований. Исключается использование готовых компонент и/или библиотек, позволяющих решить поставленную задачу \"из коробки\". Допускается использовать библиотеку numpy и pandas."
      ]
    },
    {
      "cell_type": "code",
      "metadata": {
        "id": "PCDbBBUVvs5G",
        "colab_type": "code",
        "colab": {}
      },
      "source": [
        "# импорт основных классов\n",
        "import numpy as np\n",
        "import random as random\n",
        "import logging as log\n",
        "import math as ma\n",
        "import json\n",
        "import codecs\n",
        "\n",
        "from termcolor import colored, cprint\n",
        "import random"
      ],
      "execution_count": 127,
      "outputs": []
    },
    {
      "cell_type": "code",
      "metadata": {
        "colab_type": "code",
        "id": "0MiENZxwdOmb",
        "scrolled": false,
        "colab": {}
      },
      "source": [
        "#создаем класс, который генерит крестики и нолики\n",
        "class createXO(object):\n",
        "    \n",
        "    def __init__(self):\n",
        "        self.matrix = [[0]*7 for i in range(7)]\n",
        "        pass\n",
        "    \n",
        "    def createX(self):\n",
        "      # задаем начальную точку для рисования крестика\n",
        "        x = random.randint(2,4)\n",
        "        y = random.randint(2,4)\n",
        "        self.matrix[x][y] = 1\n",
        "        # задаем радиус рисования крестика\n",
        "        rad = min(6-x,6-y, x, y)\n",
        "        # заполняем крестик по диагоналям\n",
        "        for i in range(1, rad):\n",
        "            self.matrix[x-i][y-i] = 1\n",
        "            self.matrix[x-i][y+i] = 1\n",
        "            self.matrix[x+i][y-i] = 1\n",
        "            self.matrix[x+i][y+i] = 1\n",
        "        # оставшиеся клетки заполняем случайно 0/1\n",
        "        self.matrix[x+rad][y-rad] = random.randint(0,1)\n",
        "        self.matrix[x-rad][y+rad] = random.randint(0,1)\n",
        "        self.matrix[x+rad][y+rad] = random.randint(0,1)\n",
        "        self.matrix[x-rad][y-rad] = random.randint(0,1)\n",
        "        return self.matrix\n",
        "    \n",
        "    def createO(self):\n",
        "        x = random.randint(2,4)\n",
        "        y = random.randint(2,4)\n",
        "        rad = min(6-x,6-y, x, y)\n",
        "        for i in range(-rad+1, rad):\n",
        "            self.matrix[x+i][y-rad] = 1\n",
        "            self.matrix[x+i][y+rad] = 1\n",
        "            self.matrix[x+rad][y+i] = 1\n",
        "            self.matrix[x-rad][y+i] = 1\n",
        "        self.matrix[x+rad][y-rad] = random.randint(0,1)\n",
        "        self.matrix[x-rad][y+rad] = random.randint(0,1)\n",
        "        self.matrix[x+rad][y+rad] = random.randint(0,1)\n",
        "        self.matrix[x-rad][y-rad] = random.randint(0,1)\n",
        "        return self.matrix"
      ],
      "execution_count": 65,
      "outputs": []
    },
    {
      "cell_type": "code",
      "metadata": {
        "id": "rxM18Z5Hvs5R",
        "colab_type": "code",
        "colab": {}
      },
      "source": [
        "# размер данных\n",
        "data_value = 1000\n",
        "\n",
        "# размер элемента данных\n",
        "matrix_len=7\n",
        "\n",
        "# заполняем нулями матрицу для данных\n",
        "data = np.zeros(((data_value),(matrix_len*matrix_len+1)))\n",
        "labels = np.zeros(data_value)\n",
        "number = 0\n",
        "\n",
        "# заполняем матрицу данных элементами 0/1\n",
        "for h in range(data_value):\n",
        "    ac = createXO()\n",
        "\n",
        "    # выбираем элемнт случайным образом\n",
        "    choose = random.randint(0,1)\n",
        "    labels[h] = choose\n",
        "    if choose == 0:\n",
        "        m=ac.createO()\n",
        "\n",
        "    if choose == 1:\n",
        "        m=ac.createX()\n",
        "\n",
        "    # в матрицу данных 0/1 кладем по строкам -> одной строкой один элемент\n",
        "    for l in range(matrix_len):\n",
        "        for p in range(matrix_len):\n",
        "            data[h][p + matrix_len*l] = m[l][p]\n",
        "\n",
        "    data[h][matrix_len*matrix_len] = -1.0"
      ],
      "execution_count": 97,
      "outputs": []
    },
    {
      "cell_type": "code",
      "metadata": {
        "id": "WFreIgCLvs5U",
        "colab_type": "code",
        "colab": {}
      },
      "source": [
        "def printXO(data):\n",
        "    for j in range(0, matrix_len):\n",
        "        for x in data[j * matrix_len: (j + 1) * matrix_len]:\n",
        "            print(colored(str(int(x)), 'red'), end=' ') if x == 1 else print(int(x), end=' ')\n",
        "        print()\n",
        "\n",
        "# i = random.randint(0, len(data))\n",
        "# printXO(data[i])"
      ],
      "execution_count": 67,
      "outputs": []
    },
    {
      "cell_type": "code",
      "metadata": {
        "id": "NTEykS2Vvs5b",
        "colab_type": "code",
        "colab": {}
      },
      "source": [
        "# предсказываем результат определения элемента, на вход элемент и используемые веса\n",
        "def predict(row, weights):\n",
        "    activation = dot_product(row, weights)\n",
        "    return 1 if activation >= 0.0 else 0"
      ],
      "execution_count": 68,
      "outputs": []
    },
    {
      "cell_type": "code",
      "metadata": {
        "id": "SjK6vAPezzhx",
        "colab_type": "code",
        "colab": {}
      },
      "source": [
        "def loss(y1, y2):\n",
        "    return (y1-y2) ** 2\n",
        "\n",
        "def loss_deriv(y1, y2):\n",
        "    return 2 * (y1-y2)\n",
        "\n",
        "def quality(data,lab,weights):\n",
        "    qual = 0.0\n",
        "    data_size = len(lab)\n",
        "    for h in range(data_size):\n",
        "      qual += loss(a(data[h],weights),lab[h])\n",
        "\n",
        "    return qual"
      ],
      "execution_count": 87,
      "outputs": []
    },
    {
      "cell_type": "code",
      "metadata": {
        "id": "7UkVvxz81uQL",
        "colab_type": "code",
        "colab": {}
      },
      "source": [
        "def phi(z):\n",
        "  return 1.0 / (1.0 + ma.exp(-z))\n",
        "\n",
        "def phi_deriv(z):\n",
        "  return phi(z) * (1.0 - phi(z))\n",
        "\n",
        "def dot_product(precedent, weights):\n",
        "  field = 0.0\n",
        "  for l in range(matrix_len):\n",
        "    for p in range(matrix_len):\n",
        "      field += precedent[p + matrix_len*l]*weights[p + matrix_len*l]\n",
        "    \n",
        "  field += precedent[matrix_len*matrix_len]*weights[matrix_len*matrix_len] # w0\n",
        "  return field;\n",
        "\n",
        "def a(precedent, weights):\n",
        "  return phi(dot_product(precedent, weights))\n",
        "\n",
        "def a_phi_deriv(precedent, weights):\n",
        "  return phi_deriv(dot_product(precedent, weights))"
      ],
      "execution_count": 88,
      "outputs": []
    },
    {
      "cell_type": "code",
      "metadata": {
        "id": "IWAw5fNvvs5k",
        "colab_type": "code",
        "colab": {}
      },
      "source": [
        "train_log = []\n",
        "# обучение нейрона\n",
        "def train_weights(train, train_labels, test, test_labels, l_rate, n_epoch):\n",
        "    \n",
        "    # иициализируем веса в начале нулями\n",
        "    dim = len(train[0])\n",
        "    weights = [((random.random()*1.0/dim)-1.0/(2.0*dim)) for i in range(dim)]\n",
        "    data_size = len(train_labels)\n",
        "    qual = quality(train,train_labels,weights)\n",
        "\n",
        "    for epoch in range(0,n_epoch):\n",
        "      qual = quality(train,train_labels,weights)\n",
        "      for i in range(data_size):\n",
        "        x_i = train[i]\n",
        "        a_i = a(x_i,weights)\n",
        "        y_i = train_labels[i]\n",
        "        e_i = loss(a_i,y_i)\n",
        "\n",
        "        step = loss_deriv(a_i,y_i)*a_phi_deriv(x_i,weights)*l_rate * x_i # vector\n",
        "        weights -= step\n",
        "\n",
        "        qual = ((data_size-1) / data_size) * qual + (1.0 / data_size) * (e_i ** 2)\n",
        "      print(\"Epoch \" + str(epoch) + \":\")\n",
        "      print(\"Train loss = \" + str(qual))\n",
        "      print(\"Test acc = \" +str(calculate_accuracy(test,test_labels,weights)))   \n",
        "            \n",
        "    return weights"
      ],
      "execution_count": 113,
      "outputs": []
    },
    {
      "cell_type": "code",
      "metadata": {
        "id": "SO_oGiH6D9hQ",
        "colab_type": "code",
        "colab": {}
      },
      "source": [
        "def calculate_accuracy(data,labels,weights):\n",
        "  size = len(labels)\n",
        "  right = 0\n",
        "  for i in range(size):\n",
        "    x_i = data[i]\n",
        "    y_i = labels[i]\n",
        "    p = predict(x_i,weights)\n",
        "    if p == labels[i]:\n",
        "      right += 1\n",
        "  \n",
        "  accuracy = right/size\n",
        "  return accuracy"
      ],
      "execution_count": 112,
      "outputs": []
    },
    {
      "cell_type": "code",
      "metadata": {
        "id": "NK2MJvzZSXWI",
        "colab_type": "code",
        "colab": {}
      },
      "source": [
        "def serialize_model(weights):\n",
        "  b = weights.tolist() # nested lists with same data, indices\n",
        "  file_path = \"model.json\" ## your path variable\n",
        "  with open(file_path, \"w\") as text_file:\n",
        "    text_file.write(json.dumps(b))"
      ],
      "execution_count": 205,
      "outputs": []
    },
    {
      "cell_type": "code",
      "metadata": {
        "id": "ZJWY8QHkSiGZ",
        "colab_type": "code",
        "colab": {}
      },
      "source": [
        "def deserialize_model():\n",
        "  file_path = \"model.json\" ## your path variable\n",
        "  obj_text = \"\"\n",
        "  with open(file_path, \"r\") as text_file:\n",
        "    obj_text = text_file.read()\n",
        "  b_new = json.loads(obj_text)\n",
        "  a_new = np.array(b_new)\n",
        "  return a_new;"
      ],
      "execution_count": 209,
      "outputs": []
    },
    {
      "cell_type": "code",
      "metadata": {
        "id": "S24xItXhvs5o",
        "colab_type": "code",
        "colab": {
          "base_uri": "https://localhost:8080/",
          "height": 711
        },
        "outputId": "080b321e-4cc1-495e-d71b-6fcabac27bc8"
      },
      "source": [
        "spl = 0.7\n",
        "sample = int(spl*data_value)\n",
        "\n",
        "train_idx = np.random.choice(data_value, sample)\n",
        "Xtrain = data[train_idx]\n",
        "Ytrain = labels[train_idx]\n",
        "\n",
        "test_idx = [idx for idx in range(data_value) if idx not in train_idx]\n",
        "Xtest = data[test_idx]\n",
        "Ytest = labels[test_idx]\n",
        "\n",
        "weights_f = train_weights(Xtrain,Ytrain,Xtest,Ytest,0.01,10)\n",
        "weights_f"
      ],
      "execution_count": 247,
      "outputs": [
        {
          "output_type": "stream",
          "text": [
            "Epoch 0:\n",
            "Train loss = 64.98729728965183\n",
            "Test acc = 0.7579365079365079\n",
            "Epoch 1:\n",
            "Train loss = 33.91996035672062\n",
            "Test acc = 0.7599206349206349\n",
            "Epoch 2:\n",
            "Train loss = 22.145244157882857\n",
            "Test acc = 0.753968253968254\n",
            "Epoch 3:\n",
            "Train loss = 15.933785315573427\n",
            "Test acc = 0.753968253968254\n",
            "Epoch 4:\n",
            "Train loss = 12.228966664560904\n",
            "Test acc = 0.753968253968254\n",
            "Epoch 5:\n",
            "Train loss = 9.82052889237097\n",
            "Test acc = 0.753968253968254\n",
            "Epoch 6:\n",
            "Train loss = 8.15167018017742\n",
            "Test acc = 0.746031746031746\n",
            "Epoch 7:\n",
            "Train loss = 6.937609129705391\n",
            "Test acc = 0.746031746031746\n",
            "Epoch 8:\n",
            "Train loss = 6.020157090827253\n",
            "Test acc = 0.746031746031746\n",
            "Epoch 9:\n",
            "Train loss = 5.305453400507753\n",
            "Test acc = 0.746031746031746\n"
          ],
          "name": "stdout"
        },
        {
          "output_type": "execute_result",
          "data": {
            "text/plain": [
              "array([ 0.33788885, -0.2193745 , -0.459321  , -0.78669768, -0.52346627,\n",
              "       -0.1419871 ,  0.18699853, -0.05109731, -0.10660369, -0.125693  ,\n",
              "       -0.07351031, -0.07322126, -0.09445958, -0.25188527, -0.47148177,\n",
              "       -0.0902259 , -0.38163957,  0.4358913 , -0.2422992 , -0.12057157,\n",
              "       -0.42826565, -0.77858344, -0.07646066,  0.48841002,  1.74526724,\n",
              "        0.39285454, -0.03121706, -0.77930945, -0.55140261, -0.2018665 ,\n",
              "       -0.36428888,  0.44738985, -0.35781998, -0.13290955, -0.41020966,\n",
              "       -0.19563236,  0.01136338, -0.10083902,  0.04416315, -0.14930473,\n",
              "       -0.03606433, -0.2309536 ,  0.20794573, -0.17915055, -0.47533964,\n",
              "       -0.80110981, -0.40899292, -0.22412707,  0.27210541, -1.05096959])"
            ]
          },
          "metadata": {
            "tags": []
          },
          "execution_count": 247
        }
      ]
    },
    {
      "cell_type": "code",
      "metadata": {
        "id": "SalhiH7pR3V6",
        "colab_type": "code",
        "colab": {
          "base_uri": "https://localhost:8080/",
          "height": 55
        },
        "outputId": "1cf2715c-ee6c-4f85-aae4-f9e45b125471"
      },
      "source": [
        "serialize_model(weights_f)"
      ],
      "execution_count": 243,
      "outputs": [
        {
          "output_type": "stream",
          "text": [
            "[0.2866024469310081, -0.16618845697089143, -0.4236634160439451, -0.7672829569040851, -0.4297652016507441, -0.24786593721300626, 0.22654860679125988, -0.13334710659010043, -0.02493823585428538, -0.10455018727370974, -0.056360263907993174, -0.156350150240717, -0.016524702457475234, -0.23245084827854234, -0.5076695665272998, -0.1245450735696021, -0.3151778282785259, 0.41711772186082074, -0.24771956441951717, -0.14046946198612675, -0.4135849518418876, -0.7869090762996309, -0.012005151659699575, 0.44787096264194876, 1.704839479891663, 0.47357976435569, -0.09376022851592458, -0.8090461675572899, -0.558843183504183, -0.1558218483622171, -0.3264661051630351, 0.482536309384983, -0.3736290641655969, -0.10577059446206356, -0.46574516475824024, -0.1638545239652068, -0.015182109232116362, -0.11968670611223112, -0.09339832183681744, -0.0964523853802545, -0.054320027035623906, -0.182937872686778, 0.2288445348687887, -0.3079717299570366, -0.5039265796980581, -0.8018402285230685, -0.42040709238942287, -0.261441161252708, 0.2663053615375262, -1.042234675891273]"
          ],
          "name": "stdout"
        }
      ]
    },
    {
      "cell_type": "code",
      "metadata": {
        "id": "loyeYI4TWsV4",
        "colab_type": "code",
        "colab": {
          "base_uri": "https://localhost:8080/",
          "height": 55
        },
        "outputId": "c64d3536-a845-4da4-882c-e66d168e42a4"
      },
      "source": [
        "!cat model.json"
      ],
      "execution_count": 251,
      "outputs": [
        {
          "output_type": "stream",
          "text": [
            "[0.2866024469310081, -0.16618845697089143, -0.4236634160439451, -0.7672829569040851, -0.4297652016507441, -0.24786593721300626, 0.22654860679125988, -0.13334710659010043, -0.02493823585428538, -0.10455018727370974, -0.056360263907993174, -0.156350150240717, -0.016524702457475234, -0.23245084827854234, -0.5076695665272998, -0.1245450735696021, -0.3151778282785259, 0.41711772186082074, -0.24771956441951717, -0.14046946198612675, -0.4135849518418876, -0.7869090762996309, -0.012005151659699575, 0.44787096264194876, 1.704839479891663, 0.47357976435569, -0.09376022851592458, -0.8090461675572899, -0.558843183504183, -0.1558218483622171, -0.3264661051630351, 0.482536309384983, -0.3736290641655969, -0.10577059446206356, -0.46574516475824024, -0.1638545239652068, -0.015182109232116362, -0.11968670611223112, -0.09339832183681744, -0.0964523853802545, -0.054320027035623906, -0.182937872686778, 0.2288445348687887, -0.3079717299570366, -0.5039265796980581, -0.8018402285230685, -0.42040709238942287, -0.261441161252708, 0.2663053615375262, -1.042234675891273]"
          ],
          "name": "stdout"
        }
      ]
    },
    {
      "cell_type": "code",
      "metadata": {
        "id": "gaenpBD8Su0k",
        "colab_type": "code",
        "colab": {}
      },
      "source": [
        "weights_f = deserialize_model()"
      ],
      "execution_count": 248,
      "outputs": []
    },
    {
      "cell_type": "code",
      "metadata": {
        "id": "37wFIpHNS4Ek",
        "colab_type": "code",
        "colab": {
          "base_uri": "https://localhost:8080/",
          "height": 35
        },
        "outputId": "70934437-a9ed-41c4-d799-b3f9b916d105"
      },
      "source": [
        "calculate_accuracy(Xtest,Ytest,weights_f)"
      ],
      "execution_count": 250,
      "outputs": [
        {
          "output_type": "execute_result",
          "data": {
            "text/plain": [
              "0.7599206349206349"
            ]
          },
          "metadata": {
            "tags": []
          },
          "execution_count": 250
        }
      ]
    }
  ]
}